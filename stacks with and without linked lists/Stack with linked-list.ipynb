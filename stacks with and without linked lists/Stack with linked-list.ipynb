{
 "cells": [
  {
   "cell_type": "code",
   "execution_count": 1,
   "id": "b70e78a3",
   "metadata": {},
   "outputs": [
    {
     "data": {
      "text/plain": [
       "'\\nJoe Kennedy\\nMarch 15, 2023\\nCIS-2532-NET01\\nProgram: Stack with a linked-list\\n\\nThis program creates a stack with a linked list to create a phone book with\\nfull names and phone numbers and print them in ascending order\\n'"
      ]
     },
     "execution_count": 1,
     "metadata": {},
     "output_type": "execute_result"
    }
   ],
   "source": [
    "'''\n",
    "Joe Kennedy\n",
    "March 15, 2023\n",
    "CIS-2532-NET01\n",
    "Program: Stack with a linked-list\n",
    "\n",
    "This program creates a stack with a linked list to create a phone book with\n",
    "full names and phone numbers and print them in ascending order\n",
    "'''"
   ]
  },
  {
   "cell_type": "code",
   "execution_count": 3,
   "id": "55ccb06a",
   "metadata": {},
   "outputs": [
    {
     "name": "stdout",
     "output_type": "stream",
     "text": [
      "Enter full name (or 'exit' to stop): John T\n",
      "Enter phone number: 555-555-5555\n",
      "Enter full name (or 'exit' to stop): Joe K\n",
      "Enter phone number: 444-444-4444\n",
      "Enter full name (or 'exit' to stop): Lane R\n",
      "Enter phone number: 333-333-3333\n",
      "Enter full name (or 'exit' to stop): Roger L\n",
      "Enter phone number: 222-222-2222\n",
      "Enter full name (or 'exit' to stop): exit\n",
      "\n",
      "----Phonebook----\n",
      "\n",
      "Joe K 444-444-4444\n",
      "John T 555-555-5555\n",
      "Lane R 333-333-3333\n",
      "Roger L 222-222-2222\n"
     ]
    }
   ],
   "source": [
    "# create classes for the linked-list\n",
    "class Node:\n",
    "    def __init__(self, data):\n",
    "        self.data = data\n",
    "        self.next = None\n",
    "\n",
    "class Stack:\n",
    "    def __init__(self):\n",
    "        self.head = None\n",
    "\n",
    "    def push(self, item):\n",
    "        new_node = Node(item)\n",
    "        new_node.next = self.head\n",
    "        self.head = new_node\n",
    "\n",
    "    def pop(self):\n",
    "        if self.head is None:\n",
    "            return None\n",
    "        data = self.head.data\n",
    "        self.head = self.head.next\n",
    "        return data\n",
    "\n",
    "    def is_empty(self):\n",
    "        return self.head is None\n",
    "\n",
    "# create an empty stack\n",
    "stack = Stack()\n",
    "\n",
    "# prompt the user to enter full names and phone numbers\n",
    "while True:\n",
    "    name = input(\"Enter full name (or 'exit' to stop): \")\n",
    "    if name == 'exit':\n",
    "        break\n",
    "    phone = input(\"Enter phone number: \")\n",
    "    stack.push((name, phone))\n",
    "\n",
    "# pop items off the stack and store them in a list\n",
    "results = []\n",
    "while not stack.is_empty():\n",
    "    results.append(stack.pop())\n",
    "\n",
    "# sort the results in ascending order by full name\n",
    "results.sort(key=lambda x: x[0])\n",
    "\n",
    "# print the results in ascending order\n",
    "print(\"\\n----Phonebook----\\n\")\n",
    "for result in results:\n",
    "    print(result[0], result[1])"
   ]
  },
  {
   "cell_type": "code",
   "execution_count": null,
   "id": "5c40648a",
   "metadata": {},
   "outputs": [],
   "source": []
  }
 ],
 "metadata": {
  "kernelspec": {
   "display_name": "Python 3 (ipykernel)",
   "language": "python",
   "name": "python3"
  },
  "language_info": {
   "codemirror_mode": {
    "name": "ipython",
    "version": 3
   },
   "file_extension": ".py",
   "mimetype": "text/x-python",
   "name": "python",
   "nbconvert_exporter": "python",
   "pygments_lexer": "ipython3",
   "version": "3.9.13"
  }
 },
 "nbformat": 4,
 "nbformat_minor": 5
}
