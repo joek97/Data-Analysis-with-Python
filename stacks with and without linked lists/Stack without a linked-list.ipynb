{
 "cells": [
  {
   "cell_type": "code",
   "execution_count": 1,
   "id": "04be31ab",
   "metadata": {
    "collapsed": true
   },
   "outputs": [
    {
     "data": {
      "text/plain": [
       "'\\nJoe Kennedy\\nMarch 15, 2023\\nCIS-2532-NET01\\nProgram: Stack without a linked-list\\n\\nThis program creates a stack without a linked list to create a phone book with\\nfull names and phone numbers and print them in ascending order\\n'"
      ]
     },
     "execution_count": 1,
     "metadata": {},
     "output_type": "execute_result"
    }
   ],
   "source": [
    "'''\n",
    "Joe Kennedy\n",
    "March 15, 2023\n",
    "CIS-2532-NET01\n",
    "Program: Stack without a linked-list\n",
    "\n",
    "This program creates a stack without a linked list to create a phone book with\n",
    "full names and phone numbers and print them in ascending order\n",
    "'''"
   ]
  },
  {
   "cell_type": "code",
   "execution_count": 16,
   "id": "0afa4afd",
   "metadata": {},
   "outputs": [
    {
     "name": "stdout",
     "output_type": "stream",
     "text": [
      "Enter full name (or 'exit' to stop): \n",
      "Joe K\n",
      "Enter phone number: \n",
      "555-555-5555\n",
      "Enter full name (or 'exit' to stop): \n",
      "Lane R\n",
      "Enter phone number: \n",
      "444-444-4444\n",
      "Enter full name (or 'exit' to stop): \n",
      "Travis T\n",
      "Enter phone number: \n",
      "333-333-3333\n",
      "Enter full name (or 'exit' to stop): \n",
      "Zane H\n",
      "Enter phone number: \n",
      "222-222-2222\n",
      "Enter full name (or 'exit' to stop): \n",
      "exit\n",
      "\n",
      "----Phonebook----\n",
      "\n",
      "Joe K 555-555-5555\n",
      "Lane R 444-444-4444\n",
      "Travis T 333-333-3333\n",
      "Zane H 222-222-2222\n"
     ]
    }
   ],
   "source": [
    "# Use python's list functions to create pop and push functions to create a stack\n",
    "def push(stack, item):\n",
    "    stack.append(item)\n",
    "\n",
    "def pop(stack):\n",
    "    if not stack:\n",
    "        return None\n",
    "    return stack.pop()\n",
    "\n",
    "def is_empty(stack):\n",
    "    return len(stack) == 0\n",
    "\n",
    "# create an empty stack\n",
    "stack = []\n",
    "\n",
    "# ask the user to enter some names and phone numbers\n",
    "while True:\n",
    "    name = input(\"Enter full name (or 'exit' to stop): \\n\")\n",
    "    if name == 'exit':\n",
    "        break\n",
    "    phone = input(\"Enter phone number: \\n\")\n",
    "    push(stack, (name, phone))\n",
    "\n",
    "# pop items off the stack and sort them in ascending order based on the name\n",
    "results = []\n",
    "while not is_empty(stack):\n",
    "    results.append(pop(stack))\n",
    "\n",
    "results.sort(key=lambda x: x[0])\n",
    "\n",
    "# print the sorted results\n",
    "print(\"\\n----Phonebook----\\n\")\n",
    "for result in results:\n",
    "    print(result[0], result[1])"
   ]
  },
  {
   "cell_type": "code",
   "execution_count": null,
   "id": "500d52f2",
   "metadata": {},
   "outputs": [],
   "source": []
  },
  {
   "cell_type": "code",
   "execution_count": null,
   "id": "fd7c0e03",
   "metadata": {},
   "outputs": [],
   "source": []
  }
 ],
 "metadata": {
  "kernelspec": {
   "display_name": "Python 3 (ipykernel)",
   "language": "python",
   "name": "python3"
  },
  "language_info": {
   "codemirror_mode": {
    "name": "ipython",
    "version": 3
   },
   "file_extension": ".py",
   "mimetype": "text/x-python",
   "name": "python",
   "nbconvert_exporter": "python",
   "pygments_lexer": "ipython3",
   "version": "3.9.13"
  }
 },
 "nbformat": 4,
 "nbformat_minor": 5
}
